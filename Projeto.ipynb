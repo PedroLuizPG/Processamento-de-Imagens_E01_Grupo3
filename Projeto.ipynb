{
  "nbformat": 4,
  "nbformat_minor": 0,
  "metadata": {
    "colab": {
      "provenance": [],
      "include_colab_link": true
    },
    "kernelspec": {
      "name": "python3",
      "display_name": "Python 3"
    },
    "language_info": {
      "name": "python"
    }
  },
  "cells": [
    {
      "cell_type": "markdown",
      "metadata": {
        "id": "view-in-github",
        "colab_type": "text"
      },
      "source": [
        "<a href=\"https://colab.research.google.com/github/PedroLuizPG/Processamento-de-Imagens_E01_Grupo3/blob/feature%2Frotacionamento/Projeto.ipynb\" target=\"_parent\"><img src=\"https://colab.research.google.com/assets/colab-badge.svg\" alt=\"Open In Colab\"/></a>"
      ]
    },
    {
      "cell_type": "code",
      "source": [
        "from skimage.transform import rotate\n",
        "import cv2\n",
        "import matplotlib.pyplot as plt\n",
        "import numpy as np\n",
        "import os\n",
        "import time\n",
        "from datetime import datetime\n",
        "from IPython.display import display, clear_output, Markdown\n",
        "from PIL import Image\n",
        "import pandas as pd\n",
        "from google.colab import files\n",
        "import zipfile\n",
        "import ipywidgets as widgets\n",
        "\n",
        "PASTA_SAIDA = \"imagens_processadas\"\n",
        "os.makedirs(PASTA_SAIDA, exist_ok=True)\n",
        "\n",
        "historico = []\n",
        "imagens = []\n",
        "\n",
        "doc_md = \"\"\"\n",
        "# Módulo: Redimensionamento / Rotação / Auto-align / Miniaturas\n",
        "\n",
        "**O que este notebook fornece (resumo):**\n",
        "- Upload de imagens pelo Colab.\n",
        "- Pré-visualização em tempo real das transformações.\n",
        "- Redimensionamento manual/automático (preserva proporção).\n",
        "- Rotação manual (ângulo) e rotação automática (estimativa via HoughLinesP).\n",
        "- Recorte automático usando detecção de contornos (ROI).\n",
        "- `auto_align`: recorte + correção de inclinação (pipeline automático).\n",
        "- Geração automática de miniaturas (vários tamanhos) e salvamento.\n",
        "- Histórico e exportação ZIP dos resultados.\n",
        "\n",
        "Use a interface abaixo para carregar suas imagens, ajustar parâmetros e confirmar o processamento.\n",
        "\"\"\"\n",
        "display(Markdown(doc_md))\n",
        "\n",
        "def upload_imagens_colab():\n",
        "    \"\"\"Upload de imagens no Colab e retorna lista de (caminho, imagem).\"\"\"\n",
        "    uploaded = files.upload()\n",
        "    imgs = []\n",
        "    for nome in uploaded.keys():\n",
        "        caminho = nome\n",
        "        img = cv2.imread(caminho)\n",
        "        if img is not None:\n",
        "            imgs.append((caminho, img))\n",
        "        else:\n",
        "            print(f\"Erro ao carregar {caminho}\")\n",
        "    return imgs\n",
        "\n",
        "def validar_imagem(img):\n",
        "    return img is not None and img.shape[0] > 10 and img.shape[1]\n",
        "\n",
        "def redimensionar_imagem(img, largura_alvo=None, altura_alvo=None):\n",
        "    \"\"\"Redimensiona mantendo proporção aproximada.\"\"\"\n",
        "    h, w = img.shape[:2]\n",
        "    if largura_alvo and altura_alvo:\n",
        "        proporcao = min(largura_alvo / w, altura_alvo / h)\n",
        "        novo_w = int(w * proporcao)\n",
        "        novo_h = int(h * proporcao)\n",
        "    elif largura_alvo:\n",
        "        proporcao = largura_alvo / w\n",
        "        novo_w = largura_alvo\n",
        "        novo_h = int(h * proporcao)\n",
        "    elif altura_alvo:\n",
        "        proporcao = altura_alvo / h\n",
        "        novo_w = int(w * proporcao)\n",
        "        novo_h = altura_alvo\n",
        "    else:\n",
        "        return img\n",
        "    return cv2.resize(img, (novo_w, novo_h), interpolation=cv2.INTER_CUBIC)\n",
        "\n",
        "def redimensionar_automatico(img, largura_max=800, altura_max=800):\n",
        "    \"\"\"Redimensiona automaticamente mantendo proporção.\"\"\"\n",
        "    h, w = img.shape[:2]\n",
        "    proporcao = min(largura_max / w, altura_max / h, 1.0)\n",
        "    novo_w, novo_h = int(w * proporcao), int(h * proporcao)\n",
        "    return cv2.resize(img, (novo_w, novo_h), interpolation=cv2.INTER_CUBIC)\n",
        "\n",
        "def rotacionar_imagem(img, angulo=0):\n",
        "    \"\"\"Rotação manual (skimage.rotate) preservando range.\"\"\"\n",
        "    if img is None:\n",
        "        return img\n",
        "    return rotate(img, angle=angulo, resize=True, preserve_range=True).astype(np.uint8)\n",
        "\n",
        "def rotacao_automatica(img, debug=False):\n",
        "    \"\"\"\n",
        "    Detecta o ângulo dominante com HoughLinesP (linhas detectadas nas bordas)\n",
        "    e corrige a inclinação.\n",
        "    Retorna a imagem rotacionada. Se não houver linhas suficientes, retorna original.\n",
        "    \"\"\"\n",
        "    if img is None:\n",
        "        return img\n",
        "\n",
        "    gray = cv2.cvtColor(img, cv2.COLOR_BGR2GRAY) if len(img.shape) == 3 else img.copy()\n",
        "    blur = cv2.GaussianBlur(gray, (5,5), 0)\n",
        "    edges = cv2.Canny(blur, 50, 150, apertureSize=3)\n",
        "\n",
        "    linhasP = cv2.HoughLinesP(edges, rho=1, theta=np.pi/180, threshold=50, minLineLength=30, maxLineGap=10)\n",
        "    if linhasP is None:\n",
        "        if debug: print(\"rotacao_automatica: sem linhas detectadas\")\n",
        "        return img\n",
        "\n",
        "    angulos = []\n",
        "    for l in linhasP:\n",
        "        x1, y1, x2, y2 = l[0]\n",
        "        dx = x2 - x1\n",
        "        dy = y2 - y1\n",
        "        if dx == 0:\n",
        "            continue\n",
        "        ang = np.degrees(np.arctan2(dy, dx))\n",
        "        if abs(ang) < 45:\n",
        "            angulos.append(ang)\n",
        "\n",
        "    if not angulos:\n",
        "        if debug: print(\"rotacao_automatica: sem ângulos úteis\")\n",
        "        return img\n",
        "\n",
        "    ang_mediana = np.median(angulos)\n",
        "    if debug:\n",
        "        print(f\"rotacao_automatica: angulos detectados (mediana) = {ang_mediana:.2f} deg\")\n",
        "\n",
        "    img_corrigida = rotacionar_imagem(img, -ang_mediana)\n",
        "    return img_corrigida"
      ],
      "metadata": {
        "colab": {
          "base_uri": "https://localhost:8080/",
          "height": 268
        },
        "id": "XfAKuiLSlIx0",
        "outputId": "106470b7-2af2-4fe4-fd0e-c21cd05032f9"
      },
      "execution_count": 1,
      "outputs": [
        {
          "output_type": "display_data",
          "data": {
            "text/plain": [
              "<IPython.core.display.Markdown object>"
            ],
            "text/markdown": "\n# Módulo: Redimensionamento / Rotação / Auto-align / Miniaturas\n\n**O que este notebook fornece (resumo):**\n- Upload de imagens pelo Colab.\n- Pré-visualização em tempo real das transformações.\n- Redimensionamento manual/automático (preserva proporção).\n- Rotação manual (ângulo) e rotação automática (estimativa via HoughLinesP).\n- Recorte automático usando detecção de contornos (ROI).\n- `auto_align`: recorte + correção de inclinação (pipeline automático).\n- Geração automática de miniaturas (vários tamanhos) e salvamento.\n- Histórico e exportação ZIP dos resultados.\n\nUse a interface abaixo para carregar suas imagens, ajustar parâmetros e confirmar o processamento.\n"
          },
          "metadata": {}
        }
      ]
    }
  ]
}